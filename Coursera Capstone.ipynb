{
    "nbformat_minor": 1, 
    "cells": [
        {
            "source": "<h1> Capstone Project</h1>", 
            "cell_type": "markdown", 
            "metadata": {
                "collapsed": true
            }
        }, 
        {
            "source": "<h2> Introduction/Business Problem Section</h2>", 
            "cell_type": "markdown", 
            "metadata": {}
        }, 
        {
            "source": "<p>When couples look into moving to a new neighborhood they primarily consider safety and security. Most of the time, they are left with no idea about what would be the lifestyle in that neighborhood. Will they fit in or change their lifestyle to adapt? From a sociological perspective the nature of the neighborhood in which a person resides affects the set of lifestyles available to that person. Differences between various neighborhoods' and proximity to the natural and cultural environments affect the way people define themselves. For example, lifestyle of those inhabitants near the ocean mostly show interest in surfing. Since lifestyle socially defines who people are, choosing the right environment to thrive for couples and their child is mutually important for their social wellbeing. Thus, a real estate website wants to offer a feature called \u2018neighborhood lifestyle\u2019 to help prospective clients get a sense of style and taste in making moving decisions to New York City metro area. It is projected that this feature will increase engagement and more call conversions to agents in New York City metro area.</p>", 
            "cell_type": "markdown", 
            "metadata": {}
        }, 
        {
            "source": "<h2> Data Section</h2>", 
            "cell_type": "markdown", 
            "metadata": {}
        }, 
        {
            "source": "<p>Since rents are constantly rising across all metro areas, it is important for couples to decide in which neighborhood to invest socially. Obviously, the cornerstone of lifestyle construction is consumption behavior. This offers possibility to create and further individualize the self with different products or services that signal different ways of life. Therefore, a lifestyle indication in a neighborhood can be measured by the density, popularity and closeness of similar venues operating in that neighborhood. Venue data is available to us through Foursquare API and will offer data to explore relationship between these venues, look into their cluster and name each neighborhood with types of lifestyle. We will extract categories of venues in that neighborhood, sort most visited and look into their diversity across other neighborhoods. Overall picture in the target city i.e. New York City will give us clear understanding of what type of lifestyle is present in that specific neighborhood.</p>", 
            "cell_type": "markdown", 
            "metadata": {}
        }, 
        {
            "execution_count": null, 
            "cell_type": "code", 
            "metadata": {}, 
            "outputs": [], 
            "source": ""
        }
    ], 
    "metadata": {
        "kernelspec": {
            "display_name": "Python 3.5", 
            "name": "python3", 
            "language": "python"
        }, 
        "language_info": {
            "mimetype": "text/x-python", 
            "nbconvert_exporter": "python", 
            "version": "3.5.5", 
            "name": "python", 
            "file_extension": ".py", 
            "pygments_lexer": "ipython3", 
            "codemirror_mode": {
                "version": 3, 
                "name": "ipython"
            }
        }
    }, 
    "nbformat": 4
}