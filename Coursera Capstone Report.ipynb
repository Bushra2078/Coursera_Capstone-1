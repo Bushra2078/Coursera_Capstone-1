{
 "cells": [
  {
   "cell_type": "markdown",
   "metadata": {},
   "source": [
    "<h1>Coursera Capstone Project Report</h1>"
   ]
  },
  {
   "cell_type": "markdown",
   "metadata": {},
   "source": [
    "<h2> Introduction/Business Problem Section</h2>"
   ]
  },
  {
   "cell_type": "markdown",
   "metadata": {},
   "source": [
    "<p>When couples look into moving to a new neighborhood they primarily consider safety and security. Most of the time, they are left with no idea about what would be the lifestyle in that neighborhood. Will they fit in or change their lifestyle to adapt? From a sociological perspective the nature of the neighborhood in which a person resides affects the set of lifestyles available to that person. Differences between various neighborhoods' and proximity to the natural and cultural environments affect the way people define themselves. For example, lifestyle of those inhabitants near the ocean mostly show interest in surfing. Since lifestyle socially defines who people are, choosing the right environment to thrive for couples and their child is mutually important for their social wellbeing. Thus, a real estate website wants to offer a feature called ‘neighborhood lifestyle’ to help prospective clients get a sense of style and taste in making moving decisions to New York City metro area. It is projected that this feature will increase engagement and more call conversions to agents in New York City metro area.</p>"
   ]
  },
  {
   "cell_type": "markdown",
   "metadata": {},
   "source": [
    "<h2> Data </h2>"
   ]
  },
  {
   "cell_type": "markdown",
   "metadata": {},
   "source": [
    "<p>Since rents are constantly rising across all metro areas, it is important for couples to decide in which neighborhood to invest socially. Obviously, the cornerstone of lifestyle construction is consumption behavior. This offers possibility to create and further individualize the self with different products or services that signal different ways of life. Therefore, a lifestyle indication in a neighborhood can be measured by the density, popularity and closeness of similar venues operating in that neighborhood. We will refer to New York City neighborhood data provided with class materials to match with postal codes with latitute and longitude data to project into our map. Venue data is available to us through Foursquare API and will offer data to explore relationship between these venues, look into their cluster and name each neighborhood with types of lifestyle. We will extract categories of venues in that neighborhood, sort most visited and look into their diversity across other neighborhoods. Overall picture in the target city i.e. New York City will give us clear understanding of what type of lifestyle is present in that specific neighborhood.</p>"
   ]
  },
  {
   "cell_type": "markdown",
   "metadata": {},
   "source": [
    "<h2> Methodology</h2>"
   ]
  },
  {
   "cell_type": "markdown",
   "metadata": {},
   "source": [
    "<p>Before we start exploring our data we imported necessary packages and set up our python environment. We download New York Geospatial data to locate neighborhood latitude and longitude information to utilize. We saw that there are 5 boroughs and 306 neighborhoods within the geographical coordinates of New York City. We created folio map to see these neighborhoods distributed across the NYC. Then we established connection with Foursquare API to retrieve maximum venues (limited to 100) within 900 meters from each neighborhood’s coordinates. We found total of 18,773 venues in 302 neighborhoods.</p>\n",
    "\n",
    "<p>We used one hot encoding to explore each category and calculate frequency mean of each venue per neighborhood. There are 347 different categories across all neighborhoods. When applied mean function and grouped per neighborhood we got common venues per neighborhood. For example, in Soho, top five places respectively are Clothing Stores, Coffee Shops, Cafés, Boutiques, and Women's Store. </p>\n",
    "    \n",
    "<p>After running frequencies for similar venues per neighborhood, we used k – means clustering algorithm to cluster similar venues across all neighborhoods. By using K means we divided the data into 6 non-overlapping subsets i.e. clusters. We found that 6 clusters within NYC best define distinct features of each neighborhood. By exploring neighborhoods within this different clusters, we determined which type of lifestyle they represent.</p>"
   ]
  },
  {
   "cell_type": "markdown",
   "metadata": {},
   "source": [
    "<h2> Results</h2>"
   ]
  },
  {
   "cell_type": "markdown",
   "metadata": {},
   "source": [
    "<p>Couples believe that a truly great neighborhood is one in sync with your current lifestyle. Surrounding venues, events, places for entertainment can constrain the lifestyle choices available to the couples or can extend them relatively. When analyzing lifestyles based on consumption culture, literature review shows history of lifestyles studies can be done mainly within three phases. These are; (1) lifestyles and social position, (2) lifestyles as styles of thought, and (3) lifestyles as styles of action. We will adopt the third phase where we will focus more generally on the level of daily life, concentrating on the use of time, especially loisirs (need to do something for recreation), and try to study the commonality of the venues in the neighborhood within people. By clustering most common 20 venues differentiated neighborhood lifestyles. When looking at clusters it revealed general picture to label neighborhoods with one of the ten lifestyle types framework which is proposed by Searle (http://www.catherinesearle.com/the-lifestyle-types). </p>\n",
    "\n",
    "<p>The Technician’s neighborhood revealed in 1st Cluster \n",
    "The technician lifestyle mostly orients around hands-on tasks such as construction, craft, manufacturing, or laboratory work, or organizing filing or their household stuff. Mostly into indoors lifestyle, neighborhoods in 1st Cluster have diverse supply stores and shops ideal for the technician type of lifestyle. The technician’s neighborhood is where all types of social venues are within reach.</p>\n",
    "\n",
    "<p>The Adventurer’s neighborhood revealed in 2nd Cluster\n",
    "The Adventurer gets their satisfaction from memorable experiences, which usually involve some combination of travel, being in the great outdoors and the natural elements, exploring, learning, experiencing new or foreign things, and physically active pursuits. The adventurer’s neighborhood includes venues that are close to water, surf and some exhibits which fits into needs of an adventurer.</p>\n",
    "\n",
    "<p>The Socialite’s neighborhood revealed in 3rd Cluster\n",
    "The Socialite is a people-person who gets their satisfaction from interactions with a wide variety of people.  They get excited about meeting new people and finding out new and interesting things about people.  Socialites, more than any other lifestyle type, know how to very quickly get past superficial chit-chat, to learn what people really think and feel and believe. Neighborhoods in socialite’s cluster have coffee shops, bars and other social spots where they can meet new people or hang out with friends.</p>\n",
    "\n",
    "\n",
    "<p>The Provider’s neighborhood revealed in 4th Cluster\n",
    "The Provider gets their satisfaction from making other people happy, especially their own partner and children.  Providers make the best stay-at-home parent, because they get satisfaction out of creating a happy home environment. Providers are often good cooks, and have good DIY skills. Considering providers’ interest and lifestyle neighborhoods in cluster 4 fits best for those who look for parks, supermarkets, discount stores and other settled venues within.\n",
    "</p>"
   ]
  },
  {
   "cell_type": "markdown",
   "metadata": {},
   "source": [
    "<h2> Discussion</h2>"
   ]
  },
  {
   "cell_type": "markdown",
   "metadata": {},
   "source": [
    "<p>There are limitations to our study. First limitation is the amount of venues per neighborhood retrieved for analysis. In other words, we are limited to 100 locations per latitude and longitude by Foursquare API. Since there are a lot of restaurants being retrieved once called with Foursquare explore endpoint it limits to include more venues that are not food related. </p>\n",
    "\n",
    "<p>The second limitation arises from Lifestyles Framework used to identify activities lifestyle types are engaged. Although we use Searle’s tool to label neighborhoods, there is no study done to show the correlation of between activities and lifestyles. \n",
    "</p>"
   ]
  },
  {
   "cell_type": "markdown",
   "metadata": {},
   "source": [
    "<h2> Conclusion</h2>"
   ]
  },
  {
   "cell_type": "markdown",
   "metadata": {},
   "source": [
    "<p>In conclusion, we retrieved 18,773 venues in 302 neighborhoods in Battle of Neighborhoods in NYC We were able to cluster those venues into neighborhoods based on their categories. We explored clusters that were different from each other based on most common 20. We labelled four lifestyles that defined each of these clusters. It was revealed that New York City has neighborhoods which can be classified as Technician’s, Adventurer’s, Socialite’s and Provider’s. </p>"
   ]
  }
 ],
 "metadata": {
  "kernelspec": {
   "display_name": "Python 3",
   "language": "python",
   "name": "python3"
  },
  "language_info": {
   "codemirror_mode": {
    "name": "ipython",
    "version": 3
   },
   "file_extension": ".py",
   "mimetype": "text/x-python",
   "name": "python",
   "nbconvert_exporter": "python",
   "pygments_lexer": "ipython3",
   "version": "3.6.6"
  }
 },
 "nbformat": 4,
 "nbformat_minor": 2
}
